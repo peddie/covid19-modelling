{
 "cells": [
  {
   "cell_type": "code",
   "execution_count": 499,
   "metadata": {
    "autoscroll": false,
    "ein.hycell": false,
    "ein.tags": "worksheet-0",
    "slideshow": {
     "slide_type": "-"
    }
   },
   "outputs": [],
   "source": [
    "%matplotlib inline\n",
    "\n",
    "import math\n",
    "import numpy as np\n",
    "import cmdstanpy\n",
    "import pandas as pd\n",
    "import arviz as az\n",
    "import matplotlib\n",
    "from matplotlib import gridspec\n",
    "import matplotlib.pyplot as plt\n",
    "from scipy import stats\n",
    "\n",
    "# matplotlib.style.use('seaborn-poster')\n",
    "matplotlib.style.use('ggplot')"
   ]
  },
  {
   "cell_type": "markdown",
   "metadata": {
    "ein.tags": "worksheet-0",
    "slideshow": {
     "slide_type": "-"
    }
   },
   "source": [
    "# Fetch the latest data on the epidemic"
   ]
  },
  {
   "cell_type": "code",
   "execution_count": 500,
   "metadata": {
    "autoscroll": false,
    "ein.hycell": false,
    "ein.tags": "worksheet-0",
    "slideshow": {
     "slide_type": "-"
    }
   },
   "outputs": [],
   "source": [
    "curl = 'https://raw.githubusercontent.com/CSSEGISandData/COVID-19/master/csse_covid_19_data/csse_covid_19_time_series/time_series_19-covid-Confirmed.csv'\n",
    "durl = 'https://raw.githubusercontent.com/CSSEGISandData/COVID-19/master/csse_covid_19_data/csse_covid_19_time_series/time_series_19-covid-Deaths.csv'\n",
    "rurl = 'https://raw.githubusercontent.com/CSSEGISandData/COVID-19/master/csse_covid_19_data/csse_covid_19_time_series/time_series_19-covid-Recovered.csv'\n",
    "\n",
    "confirmed = pd.read_csv(curl, error_bad_lines=False)\n",
    "dead = pd.read_csv(durl, error_bad_lines=False)\n",
    "recovered = pd.read_csv(rurl, error_bad_lines=False)\n",
    "\n",
    "data_start_index = '1/22/20'"
   ]
  },
  {
   "cell_type": "markdown",
   "metadata": {
    "ein.tags": "worksheet-0",
    "slideshow": {
     "slide_type": "-"
    }
   },
   "source": [
    "Let's check out some of the earliest data sets."
   ]
  },
  {
   "cell_type": "code",
   "execution_count": 501,
   "metadata": {
    "autoscroll": false,
    "ein.hycell": false,
    "ein.tags": "worksheet-0",
    "slideshow": {
     "slide_type": "-"
    }
   },
   "outputs": [
    {
     "data": {
      "text/html": [
       "<div>\n",
       "<style scoped>\n",
       "    .dataframe tbody tr th:only-of-type {\n",
       "        vertical-align: middle;\n",
       "    }\n",
       "\n",
       "    .dataframe tbody tr th {\n",
       "        vertical-align: top;\n",
       "    }\n",
       "\n",
       "    .dataframe thead th {\n",
       "        text-align: right;\n",
       "    }\n",
       "</style>\n",
       "<table border=\"1\" class=\"dataframe\">\n",
       "  <thead>\n",
       "    <tr style=\"text-align: right;\">\n",
       "      <th></th>\n",
       "      <th>Province/State</th>\n",
       "      <th>Country/Region</th>\n",
       "      <th>Lat</th>\n",
       "      <th>Long</th>\n",
       "      <th>1/22/20</th>\n",
       "      <th>1/23/20</th>\n",
       "      <th>1/24/20</th>\n",
       "      <th>1/25/20</th>\n",
       "      <th>1/26/20</th>\n",
       "      <th>1/27/20</th>\n",
       "      <th>...</th>\n",
       "      <th>3/7/20</th>\n",
       "      <th>3/8/20</th>\n",
       "      <th>3/9/20</th>\n",
       "      <th>3/10/20</th>\n",
       "      <th>3/11/20</th>\n",
       "      <th>3/12/20</th>\n",
       "      <th>3/13/20</th>\n",
       "      <th>3/14/20</th>\n",
       "      <th>3/15/20</th>\n",
       "      <th>3/16/20</th>\n",
       "    </tr>\n",
       "  </thead>\n",
       "  <tbody>\n",
       "    <tr>\n",
       "      <th>16</th>\n",
       "      <td>NaN</td>\n",
       "      <td>Italy</td>\n",
       "      <td>43.0</td>\n",
       "      <td>12.0</td>\n",
       "      <td>0</td>\n",
       "      <td>0</td>\n",
       "      <td>0</td>\n",
       "      <td>0</td>\n",
       "      <td>0</td>\n",
       "      <td>0</td>\n",
       "      <td>...</td>\n",
       "      <td>5883</td>\n",
       "      <td>7375</td>\n",
       "      <td>9172</td>\n",
       "      <td>10149</td>\n",
       "      <td>12462</td>\n",
       "      <td>12462</td>\n",
       "      <td>17660</td>\n",
       "      <td>21157</td>\n",
       "      <td>24747</td>\n",
       "      <td>27980</td>\n",
       "    </tr>\n",
       "    <tr>\n",
       "      <th>18</th>\n",
       "      <td>NaN</td>\n",
       "      <td>Spain</td>\n",
       "      <td>40.0</td>\n",
       "      <td>-4.0</td>\n",
       "      <td>0</td>\n",
       "      <td>0</td>\n",
       "      <td>0</td>\n",
       "      <td>0</td>\n",
       "      <td>0</td>\n",
       "      <td>0</td>\n",
       "      <td>...</td>\n",
       "      <td>500</td>\n",
       "      <td>673</td>\n",
       "      <td>1073</td>\n",
       "      <td>1695</td>\n",
       "      <td>2277</td>\n",
       "      <td>2277</td>\n",
       "      <td>5232</td>\n",
       "      <td>6391</td>\n",
       "      <td>7798</td>\n",
       "      <td>9942</td>\n",
       "    </tr>\n",
       "    <tr>\n",
       "      <th>156</th>\n",
       "      <td>NaN</td>\n",
       "      <td>Korea, South</td>\n",
       "      <td>36.0</td>\n",
       "      <td>128.0</td>\n",
       "      <td>1</td>\n",
       "      <td>1</td>\n",
       "      <td>2</td>\n",
       "      <td>2</td>\n",
       "      <td>3</td>\n",
       "      <td>4</td>\n",
       "      <td>...</td>\n",
       "      <td>7041</td>\n",
       "      <td>7314</td>\n",
       "      <td>7478</td>\n",
       "      <td>7513</td>\n",
       "      <td>7755</td>\n",
       "      <td>7869</td>\n",
       "      <td>7979</td>\n",
       "      <td>8086</td>\n",
       "      <td>8162</td>\n",
       "      <td>8236</td>\n",
       "    </tr>\n",
       "    <tr>\n",
       "      <th>155</th>\n",
       "      <td>NaN</td>\n",
       "      <td>Iran</td>\n",
       "      <td>32.0</td>\n",
       "      <td>53.0</td>\n",
       "      <td>0</td>\n",
       "      <td>0</td>\n",
       "      <td>0</td>\n",
       "      <td>0</td>\n",
       "      <td>0</td>\n",
       "      <td>0</td>\n",
       "      <td>...</td>\n",
       "      <td>5823</td>\n",
       "      <td>6566</td>\n",
       "      <td>7161</td>\n",
       "      <td>8042</td>\n",
       "      <td>9000</td>\n",
       "      <td>10075</td>\n",
       "      <td>11364</td>\n",
       "      <td>12729</td>\n",
       "      <td>13938</td>\n",
       "      <td>14991</td>\n",
       "    </tr>\n",
       "  </tbody>\n",
       "</table>\n",
       "<p>4 rows × 59 columns</p>\n",
       "</div>"
      ],
      "text/plain": [
       "    Province/State Country/Region   Lat   Long  1/22/20  1/23/20  1/24/20  \\\n",
       "16             NaN          Italy  43.0   12.0        0        0        0   \n",
       "18             NaN          Spain  40.0   -4.0        0        0        0   \n",
       "156            NaN   Korea, South  36.0  128.0        1        1        2   \n",
       "155            NaN           Iran  32.0   53.0        0        0        0   \n",
       "\n",
       "     1/25/20  1/26/20  1/27/20  ...  3/7/20  3/8/20  3/9/20  3/10/20  3/11/20  \\\n",
       "16         0        0        0  ...    5883    7375    9172    10149    12462   \n",
       "18         0        0        0  ...     500     673    1073     1695     2277   \n",
       "156        2        3        4  ...    7041    7314    7478     7513     7755   \n",
       "155        0        0        0  ...    5823    6566    7161     8042     9000   \n",
       "\n",
       "     3/12/20  3/13/20  3/14/20  3/15/20  3/16/20  \n",
       "16     12462    17660    21157    24747    27980  \n",
       "18      2277     5232     6391     7798     9942  \n",
       "156     7869     7979     8086     8162     8236  \n",
       "155    10075    11364    12729    13938    14991  \n",
       "\n",
       "[4 rows x 59 columns]"
      ]
     },
     "execution_count": 501,
     "metadata": {},
     "output_type": "execute_result"
    }
   ],
   "source": [
    "def subset_country_names(table, countries):\n",
    "    rose = []\n",
    "    for country in countries:\n",
    "        rose.append(confirmed[confirmed['Country/Region'] == country])\n",
    "    return pd.concat(rose, axis=0)\n",
    "\n",
    "subset_country_names(confirmed, ['Italy', 'Spain', 'Korea, South', 'Iran'])"
   ]
  },
  {
   "cell_type": "markdown",
   "metadata": {
    "ein.tags": "worksheet-0",
    "slideshow": {
     "slide_type": "-"
    }
   },
   "source": [
    "# Modelling one country at a time\n",
    "\n",
    "## Extracting the time-series values\n",
    "\n",
    "Here we'll pull out just the measurements we have for the specified country and organize them as a single matrix to feed into Stan.\n",
    "\n",
    "We want to pull out observations starting after all the metadata stuff.\n",
    "\n",
    "For ease of modelling, we automatically drop any lead-up period in which the subset of data to be analyzed had too few infections to be modelled accurately (this period varies depending on the country you select).  This may change if the model is able to take into account underreporting due to lack of testing; for now, it just means we won't have to account for a long period with no change by inflating measurement noise and increasing parameter uncertainty."
   ]
  },
  {
   "cell_type": "code",
   "execution_count": 502,
   "metadata": {
    "autoscroll": false,
    "ein.hycell": false,
    "ein.tags": "worksheet-0",
    "slideshow": {
     "slide_type": "-"
    }
   },
   "outputs": [],
   "source": [
    "# worldometer.com, just took the current ones.  these numbers can be pretty approximate.\n",
    "populations = {\n",
    "    'Italy':60488135,\n",
    "    'China':1435000000,\n",
    "    'Korea, South':51256309,\n",
    "    'Spain':46749498,\n",
    "    'US':331002651,\n",
    "    'Australia':25411689,\n",
    "    'Iran':83671720,\n",
    "    'France':65231249,\n",
    "}\n",
    "\n",
    "def extract_measurements(table, config):\n",
    "    \"\"\"Match out the row for the country, get rid of the initial metadata\n",
    "    columns and drop any leading or trailing NaN values \n",
    "    \"\"\"\n",
    "    return table.loc[table['Country/Region'] == config['country']].loc[:, data_start_index:].dropna(axis=1).sum(axis=0)\n",
    "\n",
    "def reached_n_infections(meas, n):\n",
    "    \"\"\"Return information about when the given country reached n confirmed\n",
    "    cases.  \n",
    "    \"\"\"\n",
    "    return int(max(0, meas.shape[0] - meas.loc[meas['Confirmed'] > n - 1, :].shape[0])), 'Confirmed', n\n",
    "\n",
    "def reached_n_deaths(meas, n):\n",
    "    \"\"\"Return information about when the given country reached n deaths.\n",
    "    \"\"\"\n",
    "    return int(max(0, meas.shape[0] - meas.loc[meas['Dead'] > n - 1, :].shape[0])), 'Dead', n\n",
    "\n",
    "def truncate_initial(meas, config):\n",
    "    \"\"\"Truncate the measurement set before the earliest date which meets the\n",
    "    infection or death threshold set above.  \n",
    "    \"\"\"\n",
    "    confirmedt0 = reached_n_infections(meas, config['start_at_infections'])\n",
    "    deatht0 = reached_n_deaths(meas, config['start_at_deaths'])\n",
    "    return min(confirmedt0, deatht0, key=lambda x: x[0])\n",
    "\n",
    "def form_table(config):\n",
    "    \"\"\"Form a combined table with all the statistics for a single country,\n",
    "    including correct column labels for easier indexing and plotting later.\n",
    "    \"\"\"\n",
    "    c0 = extract_measurements(confirmed, config)\n",
    "    r0 = extract_measurements(recovered, config)\n",
    "    d0 = extract_measurements(dead, config)\n",
    "    data = pd.concat([c0, r0, d0], axis=1)\n",
    "    data.columns = ['Confirmed', 'Recovered', 'Dead']\n",
    "    newt0, reason, limit = truncate_initial(data, config)\n",
    "    # Provide info about how the start of the data window was chosen.\n",
    "    country = config['country']\n",
    "    print(f'{country} reached {limit} \"{reason}\" on {data.index[newt0]}; dropping preceding data')\n",
    "    return data.iloc[newt0:, :]"
   ]
  },
  {
   "cell_type": "markdown",
   "metadata": {
    "ein.tags": "worksheet-0",
    "slideshow": {
     "slide_type": "-"
    }
   },
   "source": [
    "First we would like to be able to pull out the time series data from the MCMC results."
   ]
  },
  {
   "cell_type": "code",
   "execution_count": 503,
   "metadata": {
    "autoscroll": false,
    "ein.hycell": false,
    "ein.tags": "worksheet-0",
    "slideshow": {
     "slide_type": "-"
    }
   },
   "outputs": [],
   "source": [
    "def get_sample_time_series(fit):\n",
    "    yhat_indices = tuple([x.startswith('y_hat') for x in fit.column_names])\n",
    "    yhat_samples = fit.sample[:, :, yhat_indices]\n",
    "    assert(yhat_samples.shape[2] == day_count * 3)\n",
    "    yhat_samples = yhat_samples.reshape((yhat_samples.shape[0] * yhat_samples.shape[1], 3, day_count))\n",
    "\n",
    "    return yhat_samples"
   ]
  },
  {
   "cell_type": "markdown",
   "metadata": {
    "ein.tags": "worksheet-0",
    "slideshow": {
     "slide_type": "-"
    }
   },
   "source": [
    "Next we need to be able to view the time series observations overlaid on the posterior distribution from our MCMC analysis."
   ]
  },
  {
   "cell_type": "code",
   "execution_count": 504,
   "metadata": {
    "autoscroll": false,
    "ein.hycell": false,
    "ein.tags": "worksheet-0",
    "slideshow": {
     "slide_type": "-"
    }
   },
   "outputs": [],
   "source": [
    "def plot_dist_time_series_std(axis, days, obs, samples, label):\n",
    "    sample_mean = np.mean(samples, axis=0)\n",
    "    sample_std = np.std(samples, axis=0)\n",
    "\n",
    "    axis.fill_between(days,\n",
    "                      means - 3 * stddevs, means + 3 * stddevs,\n",
    "                      label=f'{label} 3-σ', color='#f0e0e0')\n",
    "    axis.fill_between(days,\n",
    "                      means - stddevs, means + stddevs,\n",
    "                      label=f'{label} 1-σ', color='#e0d0d0')\n",
    "    axis.plot(days, means,\n",
    "              label=f'{label} mean')\n",
    "    axis.plot(days, obs,\n",
    "              label=f'Recorded {label}',\n",
    "              marker='D', linewidth=0.8)\n",
    "    plt.setp(axis.get_xticklabels(), visible=False)\n",
    "\n",
    "    axis.grid(True)\n",
    "    axis.set_ylabel(f'Number of {label} cases')\n",
    "    axis.legend()\n",
    "\n",
    "def plot_dist_time_series(axis, days, obs, samples, label, subsample=10):\n",
    "    for sample in samples[0:-1:subsample, :]:\n",
    "        axis.plot(days,\n",
    "                  sample,\n",
    "                  linewidth=0.05, color='blue', alpha=0.4)\n",
    "    axis.plot(days,\n",
    "              samples[-1, :],\n",
    "              linewidth=0.05, color='blue', alpha=0.4, \n",
    "              label=f'MCMC draws (subsampled by {subsample})')\n",
    "    axis.plot(days, np.mean(samples, axis=0),\n",
    "              label=f'{label} mean', color='red')\n",
    "    axis.plot(days, obs,\n",
    "              label=f'Recorded {label}',\n",
    "              color='orange', marker='D', linewidth=0.8)\n",
    "\n",
    "    axis.grid(True)\n",
    "    axis.set_ylabel(f'Number of {label} cases')\n",
    "    axis.legend()\n",
    "        \n",
    "def plot_posterior_time_series(samples, meas, config, plotf=plot_dist_time_series):\n",
    "    days = samples.shape[2]\n",
    "    \n",
    "    fig = plt.figure(figsize=(15, 10))\n",
    "    fig.set_tight_layout(True)\n",
    "    gs = gridspec.GridSpec(3, 1)\n",
    "    country = config['country']\n",
    "    fig.suptitle(f'Coronavirus epidemic in {country} from {meas.index[0]} to {meas.index[-1]}')\n",
    "    \n",
    "    # Pull out the last axis now so that we can link x-axes (this only matters in interactive plots)\n",
    "    last_axis = plt.subplot(gs[-1])\n",
    "    labels = ['Confirmed', 'Recovered', 'Dead']\n",
    "    for axis_idx in range(3):\n",
    "        not_last = axis_idx != len(labels) - 1\n",
    "        axis = plt.subplot(gs[axis_idx], sharex=last_axis) if not_last else last_axis\n",
    "        plotf(axis, pd.to_datetime(meas.index),\n",
    "              meas.to_numpy()[:, axis_idx],\n",
    "              samples[:, axis_idx, :],\n",
    "              labels[axis_idx])\n",
    "        if not_last:\n",
    "            plt.setp(axis.get_xticklabels(), visible=False)\n",
    "\n",
    "    # Last axis is special for label-handling purposes\n",
    "    last_axis.set_xlabel(f'Date')\n",
    "    for tick in last_axis.get_xticklabels():\n",
    "        tick.set_rotation(22)\n",
    "\n",
    "    plt.tight_layout()\n",
    "    plt.show()"
   ]
  },
  {
   "cell_type": "markdown",
   "metadata": {
    "ein.tags": "worksheet-0",
    "slideshow": {
     "slide_type": "-"
    }
   },
   "source": [
    "# The actual model\n",
    "\n",
    "Start with a configuration"
   ]
  },
  {
   "cell_type": "code",
   "execution_count": 658,
   "metadata": {
    "autoscroll": false,
    "ein.hycell": false,
    "ein.tags": "worksheet-0",
    "slideshow": {
     "slide_type": "-"
    }
   },
   "outputs": [],
   "source": [
    "data_config = {\n",
    "    'start_at_infections':20,\n",
    "    'start_at_deaths':5,\n",
    "    'country':'Australia',\n",
    "}"
   ]
  },
  {
   "cell_type": "code",
   "execution_count": 659,
   "metadata": {
    "autoscroll": false,
    "ein.hycell": false,
    "ein.tags": "worksheet-0",
    "slideshow": {
     "slide_type": "-"
    }
   },
   "outputs": [
    {
     "name": "stdout",
     "output_type": "stream",
     "text": [
      "Australia reached 20 \"Confirmed\" on 2/22/20; dropping preceding data\n"
     ]
    }
   ],
   "source": [
    "measurements = form_table(data_config)\n",
    "day_count = measurements.shape[0]"
   ]
  },
  {
   "cell_type": "markdown",
   "metadata": {
    "ein.tags": "worksheet-0",
    "slideshow": {
     "slide_type": "-"
    }
   },
   "source": [
    "It's always a good idea to take a look at the data we plan to fit to."
   ]
  },
  {
   "cell_type": "code",
   "execution_count": 660,
   "metadata": {
    "autoscroll": false,
    "ein.hycell": false,
    "ein.tags": "worksheet-0",
    "slideshow": {
     "slide_type": "-"
    }
   },
   "outputs": [
    {
     "data": {
      "image/png": "[encoded data removed]",
      "text/plain": [
       "<Figure size 432x288 with 1 Axes>"
      ]
     },
     "metadata": {},
     "output_type": "display_data"
    }
   ],
   "source": [
    "def display_measurements(measurements, name):\n",
    "    title=f'Coronavirus over time in {name} (total population {populations[name]})'\n",
    "    measurements.plot(grid=True,\n",
    "                      title=title, style=['-', '--', ':'])\n",
    "    \n",
    "display_measurements(measurements, data_config['country'])"
   ]
  },
  {
   "cell_type": "markdown",
   "metadata": {
    "ein.tags": "worksheet-0",
    "slideshow": {
     "slide_type": "-"
    }
   },
   "source": [
    "If you plot an early country, you can clearly see the point at which the behavior change caused an inflection point in infections."
   ]
  },
  {
   "cell_type": "markdown",
   "metadata": {
    "ein.tags": "worksheet-0",
    "slideshow": {
     "slide_type": "-"
    }
   },
   "source": [
    "## MCMC sampling\n",
    "\n",
    "The first step is to arrange the data plus a bit of metadata information for the model so that we can pass it to Stan.\n",
    "\n",
    "It's handy to be able to visualize a few distributions when assigning priors."
   ]
  },
  {
   "cell_type": "code",
   "execution_count": 661,
   "metadata": {
    "autoscroll": false,
    "ein.hycell": false,
    "ein.tags": "worksheet-0",
    "slideshow": {
     "slide_type": "-"
    }
   },
   "outputs": [
    {
     "data": {
      "image/png": "[encoded data removed]",
      "text/plain": [
       "<Figure size 432x288 with 1 Axes>"
      ]
     },
     "metadata": {},
     "output_type": "display_data"
    }
   ],
   "source": [
    "def plot_invgamma(x, alpha, beta, axis):\n",
    "    axis.plot(x, stats.invgamma.pdf(x, alpha, scale=beta),\n",
    "              label=f'invgamma({alpha}, {beta})')\n",
    "    \n",
    "def plot_invgammas(params):\n",
    "    fig, ax = plt.subplots(1, 1)\n",
    "    x = np.linspace(0, 10, 1000)\n",
    "    for (alpha, beta) in params:\n",
    "        plot_invgamma(x, alpha, beta, ax)\n",
    "    ax.legend()\n",
    "\n",
    "plot_invgammas([(1, 1), (2, 0.5)])"
   ]
  },
  {
   "cell_type": "code",
   "execution_count": 662,
   "metadata": {
    "autoscroll": false,
    "ein.hycell": false,
    "ein.tags": "worksheet-0",
    "slideshow": {
     "slide_type": "-"
    }
   },
   "outputs": [],
   "source": [
    "fit_data = {\n",
    "    'y':measurements.to_numpy(),\n",
    "    'T':day_count,\n",
    "    'ts':list(range(0, day_count)),\n",
    "    'population':populations[country],\n",
    "    'sigma_infected_prior':[2, 0.5],\n",
    "    'sigma_dead_prior':[2, 0.5],\n",
    "    'beta_prior':[2.2, 0.15],\n",
    "    'gamma_prior':[0, 0.1],\n",
    "    'zeta_prior':[0, 0.1],\n",
    "    'skew_prior':[0, 2],\n",
    "}"
   ]
  },
  {
   "cell_type": "markdown",
   "metadata": {
    "ein.tags": "worksheet-0",
    "slideshow": {
     "slide_type": "-"
    }
   },
   "source": [
    "Now kick off the sampler.  Note the options commented below."
   ]
  },
  {
   "cell_type": "code",
   "execution_count": null,
   "metadata": {
    "autoscroll": false,
    "ein.hycell": false,
    "ein.tags": "worksheet-0",
    "scrolled": false,
    "slideshow": {
     "slide_type": "-"
    }
   },
   "outputs": [
    {
     "name": "stderr",
     "output_type": "stream",
     "text": [
      "INFO:cmdstanpy:found newer exe file, not recompiling\n",
      "INFO:cmdstanpy:compiled model file: /home/peddie/programming/covid19-modelling/sird_skewed_noise\n",
      "INFO:cmdstanpy:start chain 1\n",
      "INFO:cmdstanpy:start chain 2\n",
      "INFO:cmdstanpy:start chain 3\n",
      "INFO:cmdstanpy:start chain 4\n",
      "INFO:cmdstanpy:start chain 5\n",
      "INFO:cmdstanpy:start chain 6\n",
      "INFO:cmdstanpy:start chain 7\n",
      "INFO:cmdstanpy:start chain 8\n",
      "INFO:cmdstanpy:start chain 9\n",
      "INFO:cmdstanpy:start chain 10\n",
      "INFO:cmdstanpy:start chain 11\n",
      "INFO:cmdstanpy:start chain 12\n",
      "INFO:cmdstanpy:start chain 13\n",
      "INFO:cmdstanpy:start chain 14\n",
      "INFO:cmdstanpy:start chain 15\n",
      "INFO:cmdstanpy:start chain 16\n",
      "INFO:cmdstanpy:start chain 17\n",
      "INFO:cmdstanpy:start chain 18\n",
      "INFO:cmdstanpy:start chain 19\n",
      "INFO:cmdstanpy:start chain 20\n",
      "INFO:cmdstanpy:start chain 21\n",
      "INFO:cmdstanpy:start chain 22\n",
      "INFO:cmdstanpy:start chain 23\n",
      "INFO:cmdstanpy:start chain 24\n",
      "INFO:cmdstanpy:finish chain 1\n",
      "INFO:cmdstanpy:finish chain 3\n",
      "INFO:cmdstanpy:finish chain 12\n",
      "INFO:cmdstanpy:finish chain 24\n",
      "INFO:cmdstanpy:finish chain 22\n",
      "INFO:cmdstanpy:finish chain 10\n",
      "INFO:cmdstanpy:finish chain 13\n",
      "INFO:cmdstanpy:finish chain 18\n",
      "INFO:cmdstanpy:finish chain 6\n",
      "INFO:cmdstanpy:finish chain 7\n",
      "INFO:cmdstanpy:finish chain 16\n",
      "INFO:cmdstanpy:finish chain 14\n",
      "INFO:cmdstanpy:finish chain 17\n",
      "INFO:cmdstanpy:finish chain 21\n",
      "INFO:cmdstanpy:finish chain 20\n",
      "INFO:cmdstanpy:finish chain 11\n",
      "INFO:cmdstanpy:finish chain 9\n",
      "INFO:cmdstanpy:finish chain 5\n",
      "INFO:cmdstanpy:finish chain 19\n",
      "INFO:cmdstanpy:finish chain 8\n",
      "INFO:cmdstanpy:finish chain 4\n",
      "INFO:cmdstanpy:finish chain 23\n"
     ]
    }
   ],
   "source": [
    "model = cmdstanpy.CmdStanModel(stan_file='sird_skewed_noise.stan')\n",
    "\n",
    "fit = model.sample(data=fit_data, output_dir='.',\n",
    "                   # Use a fixed seed so that our runs are deterministic.\n",
    "                   seed=2222,\n",
    "                   # This computer has 8 processors, 6 chains is fine\n",
    "                   chains=24,\n",
    "                   # Make the sampler a bit more robust in exchange for more sampling time\n",
    "                   # adapt_delta=0.95,\n",
    "                   # Let the sampler explore deeper\n",
    "                   # max_treedepth=12,\n",
    "                   # Make sure to get enough samples to avoid any diagnostic problems\n",
    "                   iter_sampling=500)"
   ]
  },
  {
   "cell_type": "markdown",
   "metadata": {
    "ein.tags": "worksheet-0",
    "slideshow": {
     "slide_type": "-"
    }
   },
   "source": [
    "### Check the run\n",
    "\n",
    "We'll pull up a few initial diagnostics.  If any warnings show up here, we should probably change the run parameters and resample."
   ]
  },
  {
   "cell_type": "code",
   "execution_count": null,
   "metadata": {
    "autoscroll": false,
    "ein.hycell": false,
    "ein.tags": "worksheet-0",
    "scrolled": true,
    "slideshow": {
     "slide_type": "-"
    }
   },
   "outputs": [],
   "source": [
    "print(fit.diagnose())"
   ]
  },
  {
   "cell_type": "code",
   "execution_count": null,
   "metadata": {
    "autoscroll": false,
    "ein.hycell": false,
    "ein.tags": "worksheet-0",
    "scrolled": true,
    "slideshow": {
     "slide_type": "-"
    }
   },
   "outputs": [],
   "source": [
    "important_values = (\n",
    "    'lp__',\n",
    "    'beta',\n",
    "    'gamma',\n",
    "    'zeta',\n",
    "    'sigma_infected',\n",
    "    'sigma_dead',\n",
    "    'skew',\n",
    ") \n",
    "fit.summary().loc[important_values, :]"
   ]
  },
  {
   "cell_type": "code",
   "execution_count": null,
   "metadata": {
    "autoscroll": false,
    "ein.hycell": false,
    "ein.tags": "worksheet-0",
    "scrolled": false,
    "slideshow": {
     "slide_type": "-"
    }
   },
   "outputs": [],
   "source": [
    "yhat_samples = get_sample_time_series(fit)\n",
    "plot_posterior_time_series(yhat_samples, measurements, data_config)"
   ]
  },
  {
   "cell_type": "markdown",
   "metadata": {
    "ein.tags": "worksheet-0",
    "slideshow": {
     "slide_type": "-"
    }
   },
   "source": [
    "### Error / likelihood analyses\n",
    "\n",
    "We can look at the likelihood of the final data given the posterior distribution of parameters and the RMS error between our modelled mean value and the observations."
   ]
  },
  {
   "cell_type": "code",
   "execution_count": null,
   "metadata": {
    "autoscroll": false,
    "ein.hycell": false,
    "ein.tags": "worksheet-0",
    "slideshow": {
     "slide_type": "-"
    }
   },
   "outputs": [],
   "source": [
    "def data_likelihood_from_fit(fit):\n",
    "    results = fit.get_drawset()\n",
    "    indices = tuple([x for x in fit.column_names if x.startswith('log_likelihood')])\n",
    "    results.loc[:, indices].sum(axis=1)\n",
    "\n",
    "# TODO(MP): understand this\n",
    "data_likelihood_from_fit(fit)"
   ]
  },
  {
   "cell_type": "markdown",
   "metadata": {
    "ein.tags": "worksheet-0",
    "slideshow": {
     "slide_type": "-"
    }
   },
   "source": [
    "## Extended diagnostics\n",
    "\n",
    "We'll use arviz to do some more diagnostic plots."
   ]
  },
  {
   "cell_type": "code",
   "execution_count": null,
   "metadata": {
    "autoscroll": false,
    "ein.hycell": false,
    "ein.tags": "worksheet-0",
    "slideshow": {
     "slide_type": "-"
    }
   },
   "outputs": [],
   "source": [
    "inferred = az.from_cmdstanpy(fit, \n",
    "                             log_likelihood='log_likelihood',\n",
    "                             posterior_predictive='y_hat',\n",
    "                             observed_data={'y':measurements.to_numpy()})\n",
    "\n",
    "# TODO(MP): how do you plot log probability of the sample?  'lp__' is gone.\n",
    "analysis_variables=list(filter(lambda x: x != 'lp__', important_values))"
   ]
  },
  {
   "cell_type": "code",
   "execution_count": null,
   "metadata": {
    "autoscroll": false,
    "ein.hycell": false,
    "ein.tags": "worksheet-0",
    "slideshow": {
     "slide_type": "-"
    }
   },
   "outputs": [],
   "source": [
    "_ = az.plot_posterior(inferred, var_names=analysis_variables, kind='hist')"
   ]
  },
  {
   "cell_type": "markdown",
   "metadata": {
    "ein.tags": "worksheet-0",
    "slideshow": {
     "slide_type": "-"
    }
   },
   "source": [
    "### Posterior correlation plots\n",
    "\n",
    "What is going on with gamma and beta?"
   ]
  },
  {
   "cell_type": "code",
   "execution_count": null,
   "metadata": {
    "autoscroll": false,
    "ein.hycell": false,
    "ein.tags": "worksheet-0",
    "slideshow": {
     "slide_type": "-"
    }
   },
   "outputs": [],
   "source": [
    "_ = az.plot_pair(inferred, var_names=analysis_variables,\n",
    "                 kind='hexbin', colorbar=True, divergences=True)"
   ]
  },
  {
   "cell_type": "code",
   "execution_count": null,
   "metadata": {
    "autoscroll": false,
    "ein.hycell": false,
    "ein.tags": "worksheet-0",
    "slideshow": {
     "slide_type": "-"
    }
   },
   "outputs": [],
   "source": [
    "_ = az.plot_trace(inferred, var_names=analysis_variables)"
   ]
  },
  {
   "cell_type": "markdown",
   "metadata": {
    "ein.tags": "worksheet-0",
    "slideshow": {
     "slide_type": "-"
    }
   },
   "source": [
    "### Effective sample size\n",
    "\n",
    "We don't have any low effective sample sizes."
   ]
  },
  {
   "cell_type": "code",
   "execution_count": null,
   "metadata": {
    "autoscroll": false,
    "ein.hycell": false,
    "ein.tags": "worksheet-0",
    "slideshow": {
     "slide_type": "-"
    }
   },
   "outputs": [],
   "source": [
    "_ = az.plot_ess(inferred, var_names=analysis_variables)"
   ]
  },
  {
   "cell_type": "markdown",
   "metadata": {
    "ein.tags": "worksheet-0",
    "slideshow": {
     "slide_type": "-"
    }
   },
   "source": [
    "### Leave-one-out analysis\n",
    "\n",
    "Let's use the prepacked LOO analysis from Stan, provided here by arviz."
   ]
  },
  {
   "cell_type": "code",
   "execution_count": null,
   "metadata": {
    "autoscroll": false,
    "ein.hycell": false,
    "ein.tags": "worksheet-0",
    "slideshow": {
     "slide_type": "-"
    }
   },
   "outputs": [],
   "source": [
    "loo = az.loo(inferred, pointwise=True)\n",
    "_ = az.plot_khat(loo)\n",
    "print(loo)"
   ]
  },
  {
   "cell_type": "markdown",
   "metadata": {
    "ein.tags": "worksheet-0",
    "slideshow": {
     "slide_type": "-"
    }
   },
   "source": [
    "No idea what this standard error value means yet, but the diagnostics look OK (i.e. we didn't get any warnings about the pareto values getting out of the \"ok\" region).  Also, puzzlingly ~10 parameters?"
   ]
  },
  {
   "cell_type": "code",
   "execution_count": null,
   "metadata": {
    "autoscroll": false,
    "ein.hycell": false,
    "ein.tags": "worksheet-0",
    "slideshow": {
     "slide_type": "-"
    }
   },
   "outputs": [],
   "source": [
    "bfmi = az.bfmi(inferred)\n",
    "print(bfmi < 0.5)"
   ]
  },
  {
   "cell_type": "code",
   "execution_count": null,
   "metadata": {
    "autoscroll": false,
    "ein.hycell": false,
    "ein.tags": "worksheet-0",
    "slideshow": {
     "slide_type": "-"
    }
   },
   "outputs": [],
   "source": [
    "_ = az.plot_mcse(inferred, var_names=analysis_variables)"
   ]
  },
  {
   "cell_type": "code",
   "execution_count": null,
   "metadata": {
    "autoscroll": false,
    "ein.hycell": false,
    "ein.tags": "worksheet-0",
    "slideshow": {
     "slide_type": "-"
    }
   },
   "outputs": [],
   "source": [
    "_ = az.plot_ppc(inferred, data_pairs={'y':'y_hat'})"
   ]
  },
  {
   "cell_type": "code",
   "execution_count": null,
   "metadata": {
    "autoscroll": false,
    "ein.hycell": false,
    "ein.tags": "worksheet-0",
    "slideshow": {
     "slide_type": "-"
    }
   },
   "outputs": [],
   "source": [
    "_ = az.plot_loo_pit(inferred, y='y', y_hat='y_hat')\n",
    "loo_pit = az.loo_pit(inferred, y='y', y_hat='y_hat')"
   ]
  },
  {
   "cell_type": "code",
   "execution_count": null,
   "metadata": {
    "autoscroll": false,
    "ein.hycell": false,
    "ein.tags": "worksheet-0",
    "slideshow": {
     "slide_type": "-"
    }
   },
   "outputs": [],
   "source": [
    "_ = az.plot_autocorr(inferred, var_names=analysis_variables)"
   ]
  },
  {
   "cell_type": "code",
   "execution_count": null,
   "metadata": {
    "autoscroll": false,
    "ein.hycell": false,
    "ein.tags": "worksheet-0",
    "slideshow": {
     "slide_type": "-"
    }
   },
   "outputs": [],
   "source": []
  },
  {
   "cell_type": "code",
   "execution_count": null,
   "metadata": {
    "autoscroll": false,
    "ein.hycell": false,
    "ein.tags": "worksheet-0",
    "slideshow": {
     "slide_type": "-"
    }
   },
   "outputs": [],
   "source": []
  }
 ],
 "metadata": {
  "kernelspec": {
   "display_name": "Python 3",
   "language": "python",
   "name": "python3"
  },
  "language_info": {
   "codemirror_mode": {
    "name": "ipython",
    "version": 3
   },
   "file_extension": ".py",
   "mimetype": "text/x-python",
   "name": "python",
   "nbconvert_exporter": "python",
   "pygments_lexer": "ipython3",
   "version": "3.7.6"
  },
  "name": "Covid19 MCMC analysis.ipynb"
 },
 "nbformat": 4,
 "nbformat_minor": 4
}
